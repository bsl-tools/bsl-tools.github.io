{
  "cells": [
    {
      "cell_type": "code",
      "execution_count": null,
      "metadata": {
        "collapsed": false
      },
      "outputs": [],
      "source": [
        "%matplotlib inline"
      ]
    },
    {
      "cell_type": "markdown",
      "metadata": {},
      "source": [
        "\n# StreamReceiver: real-time alpha band power\n\nBCI, Neurofeedback, or any online paradigm that needs access to real-time\nsignals to compute a given metric can be designed with a `~bsl.StreamReceiver`.\n"
      ]
    },
    {
      "cell_type": "code",
      "execution_count": null,
      "metadata": {
        "collapsed": false
      },
      "outputs": [],
      "source": [
        "# Authors: Mathieu Scheltienne <mathieu.scheltienne@fcbg.ch>\n#\n# License: LGPL-2.1"
      ]
    },
    {
      "cell_type": "markdown",
      "metadata": {},
      "source": [
        "<div class=\"alert alert-danger\"><h4>Warning</h4><p>Both `~bsl.StreamPlayer` and `~bsl.StreamRecorder` create a new process\n    to stream or record data. On Windows, mutliprocessing suffers a couple of\n    restrictions. The entry-point of a multiprocessing program should be\n    protected with ``if __name__ == '__main__':`` to ensure it can safely\n    import and run the module. More information on the\n    `documentation for multiprocessing on Windows\n    <https://docs.python.org/2/library/multiprocessing.html#windows>`_.</p></div>\n\nThis example will use a sample EEG resting-state dataset that can be retrieve\nwith `bsl.datasets<datasets>`. The dataset is stored in the user home\ndirectory in the folder ``bsl_data`` (e.g. ``C:\\Users\\User\\bsl_data``).\n\n"
      ]
    },
    {
      "cell_type": "code",
      "execution_count": null,
      "metadata": {
        "collapsed": false
      },
      "outputs": [],
      "source": [
        "import os\nfrom pathlib import Path\nimport time\n\nfrom matplotlib import pyplot as plt\nimport mne\nimport numpy as np\n\nfrom bsl import StreamRecorder, StreamReceiver, StreamPlayer, datasets\nfrom bsl.utils import Timer\nfrom bsl.triggers.software import SoftwareTrigger"
      ]
    },
    {
      "cell_type": "markdown",
      "metadata": {},
      "source": [
        "To simulate an actual signal coming from an LSL stream, a `~bsl.StreamPlayer`\nis used with a 40 seconds resting-state recording.\n\n"
      ]
    },
    {
      "cell_type": "code",
      "execution_count": null,
      "metadata": {
        "collapsed": false
      },
      "outputs": [],
      "source": [
        "stream_name = 'StreamPlayer'\nfif_file = datasets.eeg_resting_state.data_path()\nplayer = StreamPlayer(stream_name, fif_file)\nplayer.start()\nprint (player)"
      ]
    },
    {
      "cell_type": "markdown",
      "metadata": {},
      "source": [
        "## Basics of StreamReceiver\n\nNow that a `~bsl.StreamPlayer` is streaming data, a `~bsl.StreamReceiver` is\ndefined to access it in real-time.\n\n"
      ]
    },
    {
      "cell_type": "code",
      "execution_count": null,
      "metadata": {
        "collapsed": false
      },
      "outputs": [],
      "source": [
        "receiver = StreamReceiver(bufsize=2, winsize=1, stream_name='StreamPlayer')\ntime.sleep(2)  # wait 2 seconds to fill LSL inlet."
      ]
    },
    {
      "cell_type": "markdown",
      "metadata": {},
      "source": [
        "<div class=\"alert alert-info\"><h4>Note</h4><p>A `~bsl.StreamReceiver` opens an LSL inlet for each connected stream at\n    initialization. The inlet's buffer is empty when created and fills up as\n    time passes. Data is pulled from the LSL inlet each time\n    `~bsl.StreamReceiver.acquire` is called.</p></div>\n\n<div class=\"alert alert-danger\"><h4>Warning</h4><p>If the `~bsl.StreamReceiver` buffer/window is large and data is pulled\n    too often from the LSL inlet, there might not be enough new samples to\n    pull an entire window/buffer length.</p></div>\n\n"
      ]
    },
    {
      "cell_type": "code",
      "execution_count": null,
      "metadata": {
        "collapsed": false
      },
      "outputs": [],
      "source": [
        "receiver.acquire()\ndata1, timestamps1 = receiver.get_window()\nprint (data1.shape)\ntime.sleep(1)\nreceiver.acquire()\ndata2, timestamps2 = receiver.get_window()\nprint (data2.shape)\nreceiver.acquire()\ndata3, timestamps3 = receiver.get_window()\nprint (data3.shape)"
      ]
    },
    {
      "cell_type": "markdown",
      "metadata": {},
      "source": [
        "The code snippet above retrieved 3 different windows of 1 second each from\nthe LSL stream sampled @ 512 Hz. The first window is retrieved 2 seconds\nafter the `~bsl.StreamReceiver` was created. The second window is retrieved 1\nsecond after the second window. The third window is retrieved right after the\nsecond window.\n\nLet's visualize how this 3 different window are placed on the timeline:\n\n"
      ]
    },
    {
      "cell_type": "code",
      "execution_count": null,
      "metadata": {
        "collapsed": false
      },
      "outputs": [],
      "source": [
        "idx = 10  # Select one channel\nf, ax = plt.subplots(1, 1, figsize=(10, 10))\nax.plot(timestamps1, data1[:, idx], color='#1f77b4')\nax.plot(timestamps2, data2[:, idx], color='#ff7f0e')\nax.plot(timestamps3, data3[:, idx], color='#2ca02c')"
      ]
    },
    {
      "cell_type": "markdown",
      "metadata": {},
      "source": [
        "As expected, the second and third window are mostly overlapping and contains\nmostly the same data. To improve visualization, each window can be shifted\nvertically with a fix offset:\n\n"
      ]
    },
    {
      "cell_type": "code",
      "execution_count": null,
      "metadata": {
        "collapsed": false
      },
      "outputs": [],
      "source": [
        "f, ax = plt.subplots(1, 1, figsize=(10, 10))\nax.plot(timestamps1, data1[:, idx], color='#1f77b4')\nax.plot(timestamps2, data2[:, idx]+2, color='#ff7f0e')\nax.plot(timestamps3, data3[:, idx]+4, color='#2ca02c')"
      ]
    },
    {
      "cell_type": "markdown",
      "metadata": {},
      "source": [
        "Finally, the `~bsl.StreamReceiver.get_window` and\n`~bsl.StreamReceiver.get_buffer` methods are only getters and do not modify\nthe buffer. Pulling new data in the buffer is only done in a separate Thread\nby `~bsl.StreamReceiver.acquire`. The exact timings at which the\n`~bsl.StreamReceiver` acquires new data is left to the discretion of the\nuser.\n\n"
      ]
    },
    {
      "cell_type": "code",
      "execution_count": null,
      "metadata": {
        "collapsed": false
      },
      "outputs": [],
      "source": [
        "data4, timestamps4 = receiver.get_window()\nprint ((data4 == data3).all(), (timestamps4 == timestamps3).all())"
      ]
    },
    {
      "cell_type": "markdown",
      "metadata": {},
      "source": [
        "## Online loop with a StreamReceiver\n\nThe example below is a simple online loop shifting between 2 phases lasting\neach 3 seconds. The loop will stop once each phase has been experienced\ntwice, thus after 12 seconds. The beginning of each phase is marked with a\ntrigger event, (1) or (2).\n\nAs an example, the alpha band power will be computed for each phase on 1\nsecond successive acquisition window.\n\n"
      ]
    },
    {
      "cell_type": "code",
      "execution_count": null,
      "metadata": {
        "collapsed": false
      },
      "outputs": [],
      "source": [
        "# FFT settings\nwinsize_in_samples = \\\n    receiver.streams['StreamPlayer'].sample_rate * receiver.winsize\nsample_spacing = 1./receiver.streams['StreamPlayer'].sample_rate\nfrequencies = np.fft.rfftfreq(n=int(winsize_in_samples), d=sample_spacing)\nalpha_band = np.where(np.logical_and(8<=frequencies, frequencies<=13))[0]\nfft_window = np.hanning(winsize_in_samples)\n\n# Loop settings\nn_cycles = 2  # 2 alternation of phases\nphase_duration = 3  # in seconds"
      ]
    },
    {
      "cell_type": "markdown",
      "metadata": {},
      "source": [
        "Acquired data is saved to disk with a `~bsl.StreamRecorder` and the beginning\nof each phase is marked with a trigger event. For this example, a\n`~bsl.triggers.software.SoftwareTrigger` is used, but this example would be\nequally valid with a different type of trigger.\n\n<div class=\"alert alert-info\"><h4>Note</h4><p>`~bsl.triggers.software.SoftwareTrigger` must be created after a\n    `~bsl.StreamRecorder` is started and closed/deleted before a\n    `~bsl.StreamRecorder` is stopped.\n\n    .. code-block:: python\n\n        recorder = StreamRecorder()\n        recorder.start()\n        trigger = SoftwareTrigger(recorder)\n        # do stuff\n        trigger.close() # OR >>> del trigger\n        recorder.stop()\n\n    All triggers do not need an active `~bsl.StreamRecorder` to be created.</p></div>\n\n"
      ]
    },
    {
      "cell_type": "code",
      "execution_count": null,
      "metadata": {
        "collapsed": false
      },
      "outputs": [],
      "source": [
        "record_dir = Path('~/bsl_data/examples').expanduser()\nos.makedirs(record_dir, exist_ok=True)\nrecorder = StreamRecorder(record_dir, fname='example_real_time')\nrecorder.start()\nprint (recorder)\ntrigger = SoftwareTrigger(recorder, verbose=True)"
      ]
    },
    {
      "cell_type": "markdown",
      "metadata": {},
      "source": [
        "The 2 first events, ``phase1`` and ``phase2`` are defined with their\nrespective timings as tuples `(timing, event)`. The timing are offset by 0.2\nto give a little headroom to the script and to avoid clipping the first\nphase.\n\nThe values used to mark the beginning of each phase are stored in a `dict`.\n\n"
      ]
    },
    {
      "cell_type": "code",
      "execution_count": null,
      "metadata": {
        "collapsed": false
      },
      "outputs": [],
      "source": [
        "offset = 0.2  # offset to avoid clipping the first phase\nevents = [(offset, 'phase1'), (offset+phase_duration, 'phase2')]\ntrigger_values = {'phase1': 1, 'phase2': 2}"
      ]
    },
    {
      "cell_type": "markdown",
      "metadata": {},
      "source": [
        "There is actually 2 nested online loops: one to switch between phases and one\nto acquire data and compute the alpha band power inside a phase.\n\n"
      ]
    },
    {
      "cell_type": "code",
      "execution_count": null,
      "metadata": {
        "collapsed": false
      },
      "outputs": [],
      "source": [
        "# number of time each phase has been experienced\nn = 1\n\n# list to store results\nalphas = list()\ntimings = list()\n\n# timers\nparadigm_timer = Timer()  # timer used to switch between phases\nphase_timer = Timer()  # timer used within a phase to count the duration\n\nnext_event_timing, event = events.pop(0)\nwhile n <= n_cycles:\n    if next_event_timing <= paradigm_timer.sec():\n        # schedule next similar event\n        events.append((next_event_timing+2*phase_duration, event))\n\n        # add new result list\n        alphas.append([])\n        timings.append([])\n\n        # reset timer and send trigger\n        phase_timer.reset()\n        trigger.signal(trigger_values[event])\n\n        while phase_timer.sec() <= phase_duration:\n            # acquisition\n            receiver.acquire()\n            raw, samples = receiver.get_window(return_raw=True)\n\n            if samples.shape[0] != winsize_in_samples:\n                continue  # skip incomplete windows\n\n            # processing\n            raw.set_eeg_reference(ref_channels='average', projection=False)\n            data = raw.pick(picks='eeg', exclude='bads').get_data()\n            data = np.multiply(data, fft_window)\n            fftval = np.abs(np.fft.rfft(data, axis=1) / data.shape[-1])\n            alpha = np.average(np.square(fftval[:, alpha_band]).T)\n\n            # append to result list\n            alphas[-1].append(alpha)\n            timings[-1].append(samples[0])\n\n        # increment if this is the second phase\n        if event == 'phase2':\n            n += 1\n        # Retrieve next event\n        next_event_timing, event = events.pop(0)\n\n# close the trigger and stop the recorder\ntrigger.close()\nrecorder.stop()"
      ]
    },
    {
      "cell_type": "markdown",
      "metadata": {},
      "source": [
        "As you may have noticed, `~bsl.StreamReceiver.get_window` or\n`~bsl.StreamReceiver.get_buffer` return by default data as a `numpy.array`,\nbut it can also be return directly as a `~mne.io.Raw` instance if the\nargument ``return_raw`` is set to ``True``.\n\nDepending on the CPU, on the current CPU load, and on the processing applied,\nthe number of acquired window (points) may vary.\n\n"
      ]
    },
    {
      "cell_type": "code",
      "execution_count": null,
      "metadata": {
        "collapsed": false
      },
      "outputs": [],
      "source": [
        "print ([len(a) for a in alphas])\nprint ([len(t) for t in timings])\n\nf, ax = plt.subplots(1, 1, figsize=(10, 10))\nfor k in range(len(alphas)):\n    color = '#1f77b4' if k%2 == 0 else '#ff7f0e'\n    ax.plot(timings[k], alphas[k], color=color)"
      ]
    },
    {
      "cell_type": "markdown",
      "metadata": {},
      "source": [
        "The saved `~mne.io.Raw` instance can then be loaded and analyzed.\n\n"
      ]
    },
    {
      "cell_type": "code",
      "execution_count": null,
      "metadata": {
        "collapsed": false
      },
      "outputs": [],
      "source": [
        "fname = record_dir / 'fif' / 'example_real_time-StreamPlayer-raw.fif'\nraw = mne.io.read_raw_fif(fname, preload=True)\nprint (raw)\nevents = mne.find_events(raw, stim_channel='TRIGGER')\nprint (events)"
      ]
    },
    {
      "cell_type": "markdown",
      "metadata": {},
      "source": [
        "Stop the mock LSL stream.\n\n"
      ]
    },
    {
      "cell_type": "code",
      "execution_count": null,
      "metadata": {
        "collapsed": false
      },
      "outputs": [],
      "source": [
        "del receiver  # disconnects and close the LSL inlet.\nplayer.stop()"
      ]
    }
  ],
  "metadata": {
    "kernelspec": {
      "display_name": "Python 3",
      "language": "python",
      "name": "python3"
    },
    "language_info": {
      "codemirror_mode": {
        "name": "ipython",
        "version": 3
      },
      "file_extension": ".py",
      "mimetype": "text/x-python",
      "name": "python",
      "nbconvert_exporter": "python",
      "pygments_lexer": "ipython3",
      "version": "3.9.9"
    }
  },
  "nbformat": 4,
  "nbformat_minor": 0
}