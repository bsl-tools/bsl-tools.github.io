{
  "cells": [
    {
      "cell_type": "code",
      "execution_count": null,
      "metadata": {
        "collapsed": false
      },
      "outputs": [],
      "source": [
        "%matplotlib inline"
      ]
    },
    {
      "cell_type": "markdown",
      "metadata": {},
      "source": [
        "\n# Real-time regulation of alpha waves\nBCI, Neurofeedback, or any online paradigm that needs access to real-time\nsignals to compute a given metric can be achieved using a Stream Receiver.\nThis example will focus on a simple paradigm to regulate the alpha waves.\n"
      ]
    },
    {
      "cell_type": "code",
      "execution_count": null,
      "metadata": {
        "collapsed": false
      },
      "outputs": [],
      "source": [
        "# Authors: Mathieu Scheltienne <mathieu.scheltienne@gmail.com>\n#\n# License: LGPL-2.1"
      ]
    },
    {
      "cell_type": "code",
      "execution_count": null,
      "metadata": {
        "collapsed": false
      },
      "outputs": [],
      "source": [
        "from pathlib import Path\n\nimport numpy as np\nfrom matplotlib import pyplot as plt\n\nfrom bsl import StreamRecorder, StreamReceiver, StreamPlayer, datasets\nfrom bsl.triggers.software import TriggerSoftware\nfrom bsl.utils import Timer\nfrom bsl.utils.io._file_dir import make_dirs"
      ]
    },
    {
      "cell_type": "markdown",
      "metadata": {},
      "source": [
        "Start a mock LSL stream with a Stream Player for this example purpose.\nCall in `__main__` because the Stream Player starts a new process, which can\nnot be done outside `__main__` on Windows.\nSee: https://docs.python.org/2/library/multiprocessing.html#windows\n\n"
      ]
    },
    {
      "cell_type": "code",
      "execution_count": null,
      "metadata": {
        "collapsed": false
      },
      "outputs": [],
      "source": [
        "sample_data_raw_file = datasets.sample.data_path()\nif __name__ == '__main__':\n    player = StreamPlayer('MyStream', sample_data_raw_file)\n    player.start()"
      ]
    },
    {
      "cell_type": "markdown",
      "metadata": {},
      "source": [
        "Define the name of the stream to connect to and the window size which will\nbe retrieved and analyzed in real-time. Paradigms using multiple sync streams\nare possible but more difficult to design.\nDefine the directory used by the recorder.\n\n"
      ]
    },
    {
      "cell_type": "code",
      "execution_count": null,
      "metadata": {
        "collapsed": false
      },
      "outputs": [],
      "source": [
        "stream_name = 'MyStream'\nwindow_size = 1  # in seconds\ndirectory = Path('~/bsl_data/examples').expanduser()\nmake_dirs(directory)"
      ]
    },
    {
      "cell_type": "markdown",
      "metadata": {},
      "source": [
        "Define a stream receiver and retrieves the window size in samples based on\nthe stream info.\n\nRequires the stream player to be active, and thus, is called in `__main__`.\n\n"
      ]
    },
    {
      "cell_type": "code",
      "execution_count": null,
      "metadata": {
        "collapsed": false
      },
      "outputs": [],
      "source": [
        "if __name__ == '__main__':\n    receiver = StreamReceiver(\n        bufsize=window_size, winsize=window_size, stream_name=stream_name)\n    window_size_samples = receiver.streams[stream_name].buffer.winsize"
      ]
    },
    {
      "cell_type": "markdown",
      "metadata": {},
      "source": [
        "For the purpose of this example, we will assume a paradigm where 2 phases,\nrest (1) and regulation (2), of 5 seconds each, alternates 3 times. During\nthe regulation phase, the subject is asked to try to regulate his alpha\nwaves. The measured alpha waves could be displayed on a screen for a\nneurofeedback study.\n\nDefine the variables required for computing the alpha power.\n\nRequires the stream player to be active, and thus, is called in `__main__`.\n\n"
      ]
    },
    {
      "cell_type": "code",
      "execution_count": null,
      "metadata": {
        "collapsed": false
      },
      "outputs": [],
      "source": [
        "if __name__ == '__main__':\n    frequencies = np.fft.rfftfreq(\n        n=window_size_samples,\n        d=1./receiver.streams[stream_name].sample_rate)\n    alpha_band = np.where(np.logical_and(8<=frequencies, frequencies<=13))[0]\n    fft_window = np.hanning(window_size_samples)"
      ]
    },
    {
      "cell_type": "markdown",
      "metadata": {},
      "source": [
        "Define the settings of the online paradigm loop.\n\n"
      ]
    },
    {
      "cell_type": "code",
      "execution_count": null,
      "metadata": {
        "collapsed": false
      },
      "outputs": [],
      "source": [
        "n_cycles = 2  # 2 alternation of rest/regulation phases\nphase_duration = 2  # in seconds\nparadigm_timer = Timer()  # timer used to switch between phases\nphase_timer = Timer()  # timer used within a phase to count the duration"
      ]
    },
    {
      "cell_type": "code",
      "execution_count": null,
      "metadata": {
        "collapsed": false
      },
      "outputs": [],
      "source": [
        "# The 2 first events are defined with their respective timings as tuples\n# `(timing, event)`. The timing are offset by 1 to give a little headroom to\n# the script and to avoid clipping the first phase.\n\noffset = 0.2  # offset to avoid clipping the first phase\nevents = [(offset, 'rest'), (offset+phase_duration, 'regulation')]"
      ]
    },
    {
      "cell_type": "markdown",
      "metadata": {},
      "source": [
        "Define the value which will be used by the trigger to mark the beginning of\neach phase.\n\n"
      ]
    },
    {
      "cell_type": "code",
      "execution_count": null,
      "metadata": {
        "collapsed": false
      },
      "outputs": [],
      "source": [
        "trigger_values = {'rest': 1, 'regulation': 2}"
      ]
    },
    {
      "cell_type": "markdown",
      "metadata": {},
      "source": [
        "Define in a function the paradigm.\n- Define a recorder and start it.\n- Define a trigger.\n- Define the paradigm loop.\n- Close the trigger and stop the recorder.\n\n"
      ]
    },
    {
      "cell_type": "code",
      "execution_count": null,
      "metadata": {
        "collapsed": false
      },
      "outputs": [],
      "source": [
        "def my_online_paradigm():\n    \"\"\"\n    Function called in __main__.\n    \"\"\"\n    # Define a recorder and start it\n    recorder = StreamRecorder(directory)\n    recorder.start(fif_subdir=False, verbose=False)\n    # Define a trigger\n    trigger = TriggerSoftware(recorder=recorder, verbose=True)\n\n    # Define loop counter and output lists\n    n = 1\n    alphas = list()\n    timings = list()\n\n    # Paradigmn loop\n    next_event_timing, event = events.pop(0)\n    paradigm_timer.reset()\n    while n <= n_cycles:\n        if next_event_timing <= paradigm_timer.sec():\n            # schedule next similar event\n            events.append((next_event_timing+2*phase_duration, event))\n\n            # add list to the ouputs\n            alphas.append([])\n            timings.append([])\n\n            # reset timer and send trigger\n            phase_timer.reset()\n            trigger.signal(trigger_values[event])\n\n            while phase_timer.sec() <= phase_duration:\n                # acquisition\n                receiver.acquire()\n                raw, samples = receiver.get_window(return_raw=True)\n\n                if samples.shape[0] != window_size_samples:\n                    continue  # skip incomplete windows\n\n                # processing\n                raw.set_eeg_reference(ref_channels='average', projection=False)\n                data = raw.pick(picks='eeg', exclude='bads').get_data()\n                data = np.multiply(data, fft_window)\n                fftval = np.abs(np.fft.rfft(data, axis=1) / data.shape[-1])\n                alpha = np.average(np.square(fftval[:, alpha_band]).T)\n\n                # append to result list\n                alphas[-1].append(alpha)\n                timings[-1].append(samples[0])\n\n            # Increment if this is a regulation phase\n            if event == 'regulation':\n                n += 1\n            # Retrieve next event\n            next_event_timing, event = events.pop(0)\n\n    # Close the trigger and stop the recorder\n    trigger.close()\n    recorder.stop()\n\n    return alphas, timings"
      ]
    },
    {
      "cell_type": "markdown",
      "metadata": {},
      "source": [
        "Call in `__main__` the function. The StreamRecorder starts a new process,\nwhich can not be done outside `__main__` on Windows.\nSee: https://docs.python.org/2/library/multiprocessing.html#windows\n\n"
      ]
    },
    {
      "cell_type": "code",
      "execution_count": null,
      "metadata": {
        "collapsed": false
      },
      "outputs": [],
      "source": [
        "if __name__ == '__main__':\n    alphas, timings = my_online_paradigm()"
      ]
    },
    {
      "cell_type": "markdown",
      "metadata": {},
      "source": [
        "Stop the mock LSL stream.\n\n"
      ]
    },
    {
      "cell_type": "code",
      "execution_count": null,
      "metadata": {
        "collapsed": false
      },
      "outputs": [],
      "source": [
        "if __name__ == '__main__':\n    del receiver\n    player.stop()"
      ]
    },
    {
      "cell_type": "markdown",
      "metadata": {},
      "source": [
        "Depending on the CPU, on the current CPU load, on the processing apply, the\nnumber of acquired window (points) may vary.\n\n"
      ]
    },
    {
      "cell_type": "code",
      "execution_count": null,
      "metadata": {
        "collapsed": false
      },
      "outputs": [],
      "source": [
        "if __name__ == '__main__':\n    print ([len(a) for a in alphas])\n    print ([len(t) for t in timings])\n\n    f, ax = plt.subplots(1, 1, figsize=(10, 10))\n    for k in range(len(alphas)):\n        color = 'lightblue' if k%2 == 0 else 'teal'\n        ax.plot(timings[k], alphas[k], color=color)"
      ]
    }
  ],
  "metadata": {
    "kernelspec": {
      "display_name": "Python 3",
      "language": "python",
      "name": "python3"
    },
    "language_info": {
      "codemirror_mode": {
        "name": "ipython",
        "version": 3
      },
      "file_extension": ".py",
      "mimetype": "text/x-python",
      "name": "python",
      "nbconvert_exporter": "python",
      "pygments_lexer": "ipython3",
      "version": "3.8.10"
    }
  },
  "nbformat": 4,
  "nbformat_minor": 0
}