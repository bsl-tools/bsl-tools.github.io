{
  "cells": [
    {
      "cell_type": "code",
      "execution_count": null,
      "metadata": {
        "collapsed": false
      },
      "outputs": [],
      "source": [
        "%matplotlib inline"
      ]
    },
    {
      "cell_type": "markdown",
      "metadata": {},
      "source": [
        "\n# Resting-State recording\nA resting-state recording is a simple offline recording during which the brain\nactivity of a subject is measured in the absence of any stimulus or task.\n"
      ]
    },
    {
      "cell_type": "code",
      "execution_count": null,
      "metadata": {
        "collapsed": false
      },
      "outputs": [],
      "source": [
        "# Authors: Mathieu Scheltienne <mathieu.scheltienne@gmail.com>\n#\n# License: LGPL-2.1"
      ]
    },
    {
      "cell_type": "code",
      "execution_count": null,
      "metadata": {
        "collapsed": false
      },
      "outputs": [],
      "source": [
        "import os\nimport time\nimport datetime\nfrom pathlib import Path\n\nfrom bsl import StreamRecorder, StreamPlayer, datasets\nfrom bsl.triggers.software import TriggerSoftware\nfrom bsl.utils import Timer"
      ]
    },
    {
      "cell_type": "markdown",
      "metadata": {},
      "source": [
        "Start a mock LSL stream with a Stream Player for this example purpose.\nCall in `__main__` because the Stream Player starts a new process, which can\nnot be done outside `__main__` on Windows.\nSee: https://docs.python.org/2/library/multiprocessing.html#windows\n\n"
      ]
    },
    {
      "cell_type": "code",
      "execution_count": null,
      "metadata": {
        "collapsed": false
      },
      "outputs": [],
      "source": [
        "sample_data_raw_file = datasets.sample.data_path()\nif __name__ == '__main__':\n    player = StreamPlayer('StreamPlayer', sample_data_raw_file)\n    player.start()"
      ]
    },
    {
      "cell_type": "markdown",
      "metadata": {},
      "source": [
        "Define the directory used by the recorder and the name of the streams to\nconnect to. Without specifying the argument `stream_name`, the recorder will\nconnect to every LSL stream available and save one .pcl and one .fif file per\nstream.\n\n"
      ]
    },
    {
      "cell_type": "code",
      "execution_count": null,
      "metadata": {
        "collapsed": false
      },
      "outputs": [],
      "source": [
        "directory = Path('~/bsl_data/examples').expanduser()\nos.makedirs(directory, exist_ok=True)\nstream_name = None"
      ]
    },
    {
      "cell_type": "markdown",
      "metadata": {},
      "source": [
        "Define the duration of the resting-state recording in seconds.\nTypical resting-state recordings last several minutes.\n\n"
      ]
    },
    {
      "cell_type": "code",
      "execution_count": null,
      "metadata": {
        "collapsed": false
      },
      "outputs": [],
      "source": [
        "duration = 5"
      ]
    },
    {
      "cell_type": "markdown",
      "metadata": {},
      "source": [
        "Define in a function the paradigm.\n- Define a recorder and start it.\n- Define a trigger.\n- Send a signal on the trigger and wait for the duration.\n- Close the trigger and stop the recorder.\n\nThe software trigger used in this example requires an active stream recorder\nto link to. Other types of trigger may be used, may be defined before the\nrecorder, and may not need to be closed.\n\n"
      ]
    },
    {
      "cell_type": "code",
      "execution_count": null,
      "metadata": {
        "collapsed": false
      },
      "outputs": [],
      "source": [
        "def resting_state(directory, stream_name, duration):\n    \"\"\"\n    Function called in __main__.\n    \"\"\"\n    recorder = StreamRecorder(directory)\n    recorder.start(fif_subdir=False, verbose=False)\n    trigger = TriggerSoftware(recorder=recorder, verbose=False)\n    trigger.signal(1)\n    time.sleep(duration)\n    trigger.close()\n    recorder.stop()"
      ]
    },
    {
      "cell_type": "markdown",
      "metadata": {},
      "source": [
        "Alternative paradigm function which prints every seconds to keep track of the\nprogression. The `time.sleep()` is replaced with a while loop.\n\n"
      ]
    },
    {
      "cell_type": "code",
      "execution_count": null,
      "metadata": {
        "collapsed": false
      },
      "outputs": [],
      "source": [
        "def resting_state_with_verbose(directory, stream_name, duration):\n    \"\"\"\n    Function called in __main__.\n    \"\"\"\n    recorder = StreamRecorder(directory)\n    recorder.start(fif_subdir=False, verbose=False)\n    trigger = TriggerSoftware(recorder=recorder, verbose=True)\n    timer = Timer()\n    previous_time_printed = 0\n    trigger.signal(1)\n    timer.reset()\n    while timer.sec() <= duration:\n        if previous_time_printed+1 <= timer.sec():\n            previous_time_printed += 1\n            print (datetime.timedelta(seconds=previous_time_printed))\n    trigger.close()\n    recorder.stop()"
      ]
    },
    {
      "cell_type": "markdown",
      "metadata": {},
      "source": [
        "Call in `__main__` the function. The StreamRecorder starts a new process,\nwhich can not be done outside `__main__` on Windows.\nSee: https://docs.python.org/2/library/multiprocessing.html#windows\n\n"
      ]
    },
    {
      "cell_type": "code",
      "execution_count": null,
      "metadata": {
        "collapsed": false
      },
      "outputs": [],
      "source": [
        "if __name__ == '__main__':\n    resting_state(directory, stream_name, duration)\n    # resting_state_with_verbose(directory, stream_name, duration)"
      ]
    },
    {
      "cell_type": "markdown",
      "metadata": {},
      "source": [
        "Stop the mock LSL stream.\n\n"
      ]
    },
    {
      "cell_type": "code",
      "execution_count": null,
      "metadata": {
        "collapsed": false
      },
      "outputs": [],
      "source": [
        "if __name__ == '__main__':\n    player.stop()"
      ]
    }
  ],
  "metadata": {
    "kernelspec": {
      "display_name": "Python 3",
      "language": "python",
      "name": "python3"
    },
    "language_info": {
      "codemirror_mode": {
        "name": "ipython",
        "version": 3
      },
      "file_extension": ".py",
      "mimetype": "text/x-python",
      "name": "python",
      "nbconvert_exporter": "python",
      "pygments_lexer": "ipython3",
      "version": "3.8.10"
    }
  },
  "nbformat": 4,
  "nbformat_minor": 0
}