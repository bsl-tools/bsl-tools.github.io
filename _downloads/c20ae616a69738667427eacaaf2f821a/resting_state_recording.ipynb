{
  "cells": [
    {
      "cell_type": "code",
      "execution_count": null,
      "metadata": {
        "collapsed": false
      },
      "outputs": [],
      "source": [
        "%matplotlib inline"
      ]
    },
    {
      "cell_type": "markdown",
      "metadata": {},
      "source": [
        "\n# StreamRecorder: resting-state recording\n\nA resting-state recording is a simple offline recording during which the brain\nactivity of a subject is measured in the absence of any stimulus or task. A\nresting-state recording can be designed with a `~bsl.StreamRecorder`.\n"
      ]
    },
    {
      "cell_type": "code",
      "execution_count": null,
      "metadata": {
        "collapsed": false
      },
      "outputs": [],
      "source": [
        "# Authors: Mathieu Scheltienne <mathieu.scheltienne@fcbg.ch>\n#\n# License: LGPL-2.1"
      ]
    },
    {
      "cell_type": "markdown",
      "metadata": {},
      "source": [
        "<div class=\"alert alert-danger\"><h4>Warning</h4><p>Both `~bsl.StreamPlayer` and `~bsl.StreamRecorder` create a new process\n    to stream or record data. On Windows, mutliprocessing suffers a couple of\n    restrictions. The entry-point of a multiprocessing program should be\n    protected with ``if __name__ == '__main__':`` to ensure it can safely\n    import and run the module. More information on the\n    `documentation for multiprocessing on Windows\n    <https://docs.python.org/2/library/multiprocessing.html#windows>`_.</p></div>\n\nThis example will use a sample EEG resting-state dataset that can be retrieve\nwith `bsl.datasets<datasets>`. The dataset is stored in the user home\ndirectory in the folder ``bsl_data`` (e.g. ``C:\\Users\\User\\bsl_data``).\n\n"
      ]
    },
    {
      "cell_type": "code",
      "execution_count": null,
      "metadata": {
        "collapsed": false
      },
      "outputs": [],
      "source": [
        "import os\nfrom pathlib import Path\nimport time\n\nimport mne\n\nfrom bsl import StreamPlayer, StreamRecorder, datasets\nfrom bsl.triggers.software import SoftwareTrigger"
      ]
    },
    {
      "cell_type": "markdown",
      "metadata": {},
      "source": [
        "To simulate an actual signal coming from an LSL stream, a `~bsl.StreamPlayer`\nis used with a 40 seconds resting-state recording.\n\n"
      ]
    },
    {
      "cell_type": "code",
      "execution_count": null,
      "metadata": {
        "collapsed": false
      },
      "outputs": [],
      "source": [
        "stream_name = 'StreamPlayer'\nfif_file = datasets.eeg_resting_state.data_path()\nplayer = StreamPlayer(stream_name, fif_file)\nplayer.start()\nprint (player)"
      ]
    },
    {
      "cell_type": "markdown",
      "metadata": {},
      "source": [
        "For this example, the folder ``bsl_data/examples`` located in the user home\ndirectory will be used to stored recorded files. To ensure its existence,\n`os.makedirs` is used.\n\n"
      ]
    },
    {
      "cell_type": "code",
      "execution_count": null,
      "metadata": {
        "collapsed": false
      },
      "outputs": [],
      "source": [
        "record_dir = Path('~/bsl_data/examples').expanduser()\nos.makedirs(record_dir, exist_ok=True)\nprint (record_dir)"
      ]
    },
    {
      "cell_type": "markdown",
      "metadata": {},
      "source": [
        "For this simple offline recording, the goal is to start a\n`~bsl.StreamRecorder`, send an event on a trigger to mark the beginning of\nthe resting-state recording, wait for a defined duration, and stop the\nrecording.\n\nBy default, a `~bsl.StreamRecorder` does not require any argument. The\ncurrent working directory is used to record data from all available streams\nin files named based on the date/time timestamp at which the recorder is\nstarted.\n\nTo record only a subset of the available streams with a specific file name\nand in a specific directory, the arguments ``record_dir``, ``fname`` and\n``stream_name`` must be provided.\n\nFor this example, the directory used to store recordings is\n``bsl_data/examples`` and the file name will start with\n``example-resting-state``.\n\n<div class=\"alert alert-info\"><h4>Note</h4><p>By default, the `~bsl.StreamRecorder.start` method is blocking and will\n    wait for the recording to start. This behavior can be changed with the\n    ``blocking`` argument.</p></div>\n\n"
      ]
    },
    {
      "cell_type": "code",
      "execution_count": null,
      "metadata": {
        "collapsed": false
      },
      "outputs": [],
      "source": [
        "recorder = StreamRecorder(record_dir, fname='example-resting-state')\nrecorder.start()\nprint (recorder)"
      ]
    },
    {
      "cell_type": "markdown",
      "metadata": {},
      "source": [
        "Now that a `~bsl.StreamRecorder` is started and is acquiring data, a trigger\nto mark the beginning of the segment of interest is created. For this\nexample, a `~bsl.triggers.software.SoftwareTrigger` is used, but this example\nwould be equally valid with a different type of trigger.\n\n<div class=\"alert alert-info\"><h4>Note</h4><p>`~bsl.triggers.software.SoftwareTrigger` must be created after a\n    `~bsl.StreamRecorder` is started and closed/deleted before a\n    `~bsl.StreamRecorder` is stopped.\n\n    .. code-block:: python\n\n        recorder = StreamRecorder()\n        recorder.start()\n        trigger = SoftwareTrigger(recorder)\n        # do stuff\n        trigger.close() # OR >>> del trigger\n        recorder.stop()\n\n    All triggers do not need an active `~bsl.StreamRecorder` to be created.</p></div>\n\n"
      ]
    },
    {
      "cell_type": "code",
      "execution_count": null,
      "metadata": {
        "collapsed": false
      },
      "outputs": [],
      "source": [
        "trigger = SoftwareTrigger(recorder, verbose=True)"
      ]
    },
    {
      "cell_type": "markdown",
      "metadata": {},
      "source": [
        "To mark the beginning of the segment of interest in the recording, a signal\nis sent on the trigger. For this example, the event value (1) is used.\n\n"
      ]
    },
    {
      "cell_type": "code",
      "execution_count": null,
      "metadata": {
        "collapsed": false
      },
      "outputs": [],
      "source": [
        "trigger.signal(1)"
      ]
    },
    {
      "cell_type": "markdown",
      "metadata": {},
      "source": [
        "Finally, after the appropriate duration, the recording is interrupted.\n\n<div class=\"alert alert-info\"><h4>Note</h4><p>`~bsl.triggers.software.SoftwareTrigger` must be closed or deleted before\n    the recorder is stopped. All triggers do not need to be closed or deleted\n    before the recorder is stopped.</p></div>\n\n"
      ]
    },
    {
      "cell_type": "code",
      "execution_count": null,
      "metadata": {
        "collapsed": false
      },
      "outputs": [],
      "source": [
        "time.sleep(2)  # 2 seconds duration\ntrigger.close()\nrecorder.stop()\nprint (recorder)"
      ]
    },
    {
      "cell_type": "markdown",
      "metadata": {},
      "source": [
        "A `~bsl.StreamRecorder` records data in ``.pcl`` format. This file can be\nopen with `pickle.load`, and is automatically converted to a `~mne.io.Raw`\nFIF file in a subdirectory ``fif``. The recorded files name syntax is:\n\n- If ``fname`` is not provided: ``[date/time timestamp]-[stream]-raw.fif``\n- If ``fname`` is provided: ``[fname]-[stream]-raw.fif``\n\nWhere ``stream`` is the name of the recorded LSL stream. Thus, one file is\ncreated for each stream being recorded.\n\n"
      ]
    },
    {
      "cell_type": "code",
      "execution_count": null,
      "metadata": {
        "collapsed": false
      },
      "outputs": [],
      "source": [
        "fname = record_dir / 'fif' / 'example-resting-state-StreamPlayer-raw.fif'\nraw = mne.io.read_raw_fif(fname, preload=True)\nprint (raw)\nevents = mne.find_events(raw, stim_channel='TRIGGER')\nprint (events)"
      ]
    },
    {
      "cell_type": "markdown",
      "metadata": {},
      "source": [
        "As for the `~bsl.StreamPlayer`, the `~bsl.StreamRecorder` can be used as a\ncontext manager. The context manager takes care of starting and stopping the\nrecording.\n\n"
      ]
    },
    {
      "cell_type": "code",
      "execution_count": null,
      "metadata": {
        "collapsed": false
      },
      "outputs": [],
      "source": [
        "with StreamRecorder(record_dir):\n    time.sleep(1)"
      ]
    },
    {
      "cell_type": "markdown",
      "metadata": {},
      "source": [
        "As for the `~bsl.StreamPlayer`, the `~bsl.StreamRecorder` can be started via\ncommand-line when a LSL stream is accessible on the network.\n\nExample assuming:\n\n- the current working directory is ``bsl_data`` in the user home directory\n- the stream to connect to is named ``MyStream``\n- the recorded file naming scheme is ``test-[stream]-raw.fif``, i.e.\n  ``test-MyStream-raw.fif``\n\n.. code-block:: console\n\n    $ bsl_stream_recorder -d examples -f test -s MyStream\n\n<img src=\"file://../_static/stream_recorder/stream_recorder_cli.gif\" alt=\"StreamRecorder\" align=\"center\">\n\n"
      ]
    },
    {
      "cell_type": "markdown",
      "metadata": {},
      "source": [
        "| Stop the mock LSL stream used in this example.\n\n"
      ]
    },
    {
      "cell_type": "code",
      "execution_count": null,
      "metadata": {
        "collapsed": false
      },
      "outputs": [],
      "source": [
        "player.stop()"
      ]
    }
  ],
  "metadata": {
    "kernelspec": {
      "display_name": "Python 3",
      "language": "python",
      "name": "python3"
    },
    "language_info": {
      "codemirror_mode": {
        "name": "ipython",
        "version": 3
      },
      "file_extension": ".py",
      "mimetype": "text/x-python",
      "name": "python",
      "nbconvert_exporter": "python",
      "pygments_lexer": "ipython3",
      "version": "3.9.9"
    }
  },
  "nbformat": 4,
  "nbformat_minor": 0
}