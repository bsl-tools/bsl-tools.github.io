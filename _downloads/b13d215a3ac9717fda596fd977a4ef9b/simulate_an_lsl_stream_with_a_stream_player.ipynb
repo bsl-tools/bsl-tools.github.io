{
  "cells": [
    {
      "cell_type": "code",
      "execution_count": null,
      "metadata": {
        "collapsed": false
      },
      "outputs": [],
      "source": [
        "%matplotlib inline"
      ]
    },
    {
      "cell_type": "markdown",
      "metadata": {},
      "source": [
        "\n# StreamPlayer: simulate an LSL stream\n\nTesting designs for online paradigm can be difficult. Access to hardware\nmeasuring real-time brain signals can be limited and time-consuming. With a\n`~bsl.StreamPlayer`, a fake data stream can be created and used to test code\nand experiment designs.\n"
      ]
    },
    {
      "cell_type": "code",
      "execution_count": null,
      "metadata": {
        "collapsed": false
      },
      "outputs": [],
      "source": [
        "# Authors: Mathieu Scheltienne <mathieu.scheltienne@fcbg.ch>\n#\n# License: LGPL-2.1"
      ]
    },
    {
      "cell_type": "markdown",
      "metadata": {},
      "source": [
        "<div class=\"alert alert-danger\"><h4>Warning</h4><p>Both `~bsl.StreamPlayer` and `~bsl.StreamRecorder` create a new process\n    to stream or record data. On Windows, mutliprocessing suffers a couple of\n    restrictions. The entry-point of a multiprocessing program should be\n    protected with ``if __name__ == '__main__':`` to ensure it can safely\n    import and run the module. More information on the\n    `documentation for multiprocessing on Windows\n    <https://docs.python.org/2/library/multiprocessing.html#windows>`_.</p></div>\n\nThis example will use a sample EEG resting-state dataset that can be retrieve\nwith `bsl.datasets<datasets>`. The dataset is stored in the user home\ndirectory, in the folder ``bsl_data``.\n\n"
      ]
    },
    {
      "cell_type": "code",
      "execution_count": null,
      "metadata": {
        "collapsed": false
      },
      "outputs": [],
      "source": [
        "import time\n\nfrom bsl import StreamPlayer, datasets\nfrom bsl.externals import pylsl  # distributed version of pylsl\nfrom bsl.triggers import TriggerDef"
      ]
    },
    {
      "cell_type": "markdown",
      "metadata": {},
      "source": [
        "## Starting a StreamPlayer\n\nA `~bsl.StreamPlayer` requires at least 2 arguments:\n\n- ``stream_name``, indicating a the name of the stream on the LSL network.\n- ``fif_file``, path to a valid `~mne.io.Raw` fif file.\n\n"
      ]
    },
    {
      "cell_type": "code",
      "execution_count": null,
      "metadata": {
        "collapsed": false
      },
      "outputs": [],
      "source": [
        "stream_name = 'StreamPlayer'\nfif_file = datasets.eeg_resting_state.data_path()\nprint (fif_file)"
      ]
    },
    {
      "cell_type": "markdown",
      "metadata": {},
      "source": [
        "### Instance\n\nTo create an LSL stream, create a `~bsl.StreamPlayer` and use the\n`~bsl.StreamPlayer.start` method.\n\n<div class=\"alert alert-info\"><h4>Note</h4><p>By default, the `~bsl.StreamPlayer.start` method is blocking and will\n    wait for the streaming to start on the network. This behavior can be\n    changed with the ``blocking`` argument.</p></div>\n\n"
      ]
    },
    {
      "cell_type": "code",
      "execution_count": null,
      "metadata": {
        "collapsed": false
      },
      "outputs": [],
      "source": [
        "player = StreamPlayer(stream_name, fif_file)\nplayer.start()\nprint (player)"
      ]
    },
    {
      "cell_type": "markdown",
      "metadata": {},
      "source": [
        "To verify if the stream is accessible on the network, use directly ``pylsl``:\n\n"
      ]
    },
    {
      "cell_type": "code",
      "execution_count": null,
      "metadata": {
        "collapsed": false
      },
      "outputs": [],
      "source": [
        "streams = [stream.name() for stream in pylsl.resolve_streams()]\nprint (streams)"
      ]
    },
    {
      "cell_type": "markdown",
      "metadata": {},
      "source": [
        "To stop the streaming, use the `~bsl.StreamPlayer.stop` method.\n\n"
      ]
    },
    {
      "cell_type": "code",
      "execution_count": null,
      "metadata": {
        "collapsed": false
      },
      "outputs": [],
      "source": [
        "player.stop()\nprint (player)"
      ]
    },
    {
      "cell_type": "markdown",
      "metadata": {},
      "source": [
        "### Context manager\n\nA `~bsl.StreamPlayer` can also be used as a context manager with a ``with``\nstatement. The context manager takes care of starting and stopping the LSL\nstream.\n\n"
      ]
    },
    {
      "cell_type": "code",
      "execution_count": null,
      "metadata": {
        "collapsed": false
      },
      "outputs": [],
      "source": [
        "with StreamPlayer(stream_name, fif_file):\n    streams = [stream.name() for stream in pylsl.resolve_streams()]\nprint (streams)"
      ]
    },
    {
      "cell_type": "markdown",
      "metadata": {},
      "source": [
        "### CLI\n\nFinally, a `~bsl.StreamPlayer` can be called from the terminal with a command\nline. This is the recommended way of starting a `~bsl.StreamPlayer`.\nExample assuming the current working directory is ``bsl_data``:\n\n.. code-block:: console\n\n    $ bsl_stream_player StreamPlayer eeg_sample\\resting_state-raw.fif\n\nHitting ``ENTER`` will stop the `~bsl.StreamPlayer`.\n\n<img src=\"file://../_static/stream_player/stream_player_cli.gif\" alt=\"StreamPlayer\" align=\"center\">\n\n"
      ]
    },
    {
      "cell_type": "markdown",
      "metadata": {},
      "source": [
        "## Additional arguments\n\nA `~bsl.StreamPlayer` has 4 optional arguments:\n\n- ``repeat``, indicating the number of time the data in the file is repeated.\n- ``trigger_def``, either the path to a :class:`.TriggerDef` definition file\n  or a :class:`.TriggerDef` instance, improving the logging of events found\n  in the `~mne.io.Raw` fif file.\n- ``chunk_size``, indicating the number of samples push at once on the LSL\n  outlet.\n- ``high_resolution``, indicating if `~time.sleep` or `~time.perf_counter` is\n  used to wait between 2 push on the LSL outlet.\n\n"
      ]
    },
    {
      "cell_type": "markdown",
      "metadata": {},
      "source": [
        "### repeat\n\n``repeat`` is set by default to ``+inf``, returning to the beginning of the\ndata in the `~mne.io.Raw` fif file each time the entire file has been 2\nstreamed. To limit the number of replay, an `int` can be passed.\n\n<div class=\"alert alert-info\"><h4>Note</h4><p>`~bsl.datasets.eeg_resting_state_short` is similar to\n    `~bsl.datasets.eeg_resting_state` but last 2 seconds instead of 40\n    seconds.</p></div>\n\n"
      ]
    },
    {
      "cell_type": "code",
      "execution_count": null,
      "metadata": {
        "collapsed": false
      },
      "outputs": [],
      "source": [
        "fif_file = datasets.eeg_resting_state_short.data_path()\nplayer = StreamPlayer(stream_name, fif_file, repeat=1)\nplayer.start()\nprint (player)"
      ]
    },
    {
      "cell_type": "markdown",
      "metadata": {},
      "source": [
        "The dataset is streamed only once. A call to the `~bsl.StreamPlayer.stop`\nmethod is not necessary.\n\n"
      ]
    },
    {
      "cell_type": "code",
      "execution_count": null,
      "metadata": {
        "collapsed": false
      },
      "outputs": [],
      "source": [
        "time.sleep(2)  # duration of this dataset.\nprint (player)"
      ]
    },
    {
      "cell_type": "markdown",
      "metadata": {},
      "source": [
        "### trigger_def\n\n:class:`.TriggerDef` can be used to assign a user-readable string to an event\nid. Providing a valid :class:`.TriggerDef` to a `~bsl.StreamPlayer` improves\nthe logging of events found on the ``TRIGGER`` channel.\n\n<div class=\"alert alert-info\"><h4>Note</h4><p>`~bsl.datasets.eeg_auditory_stimuli` contains an alternation of rest\n    events (1) lasting 1 second and of auditory stimuli events (4) lasting\n    0.8 second.</p></div>\n\n"
      ]
    },
    {
      "cell_type": "code",
      "execution_count": null,
      "metadata": {
        "collapsed": false
      },
      "outputs": [],
      "source": [
        "fif_file = datasets.eeg_auditory_stimuli.data_path()\nplayer = StreamPlayer(stream_name, fif_file)\nplayer.start()\nprint (player)\n\n# wait a bit to get some events logged\ntime.sleep(4)\n\n# stop\nplayer.stop()\nprint (player)"
      ]
    },
    {
      "cell_type": "markdown",
      "metadata": {},
      "source": [
        "By default, the logging of events uses the ID with ``Events: ID``. If a\n:class:`.TriggerDef` is provided, the logging message will include the\ncorresponding event name if it exists with ``Events: ID (NAME)``.\n\n"
      ]
    },
    {
      "cell_type": "code",
      "execution_count": null,
      "metadata": {
        "collapsed": false
      },
      "outputs": [],
      "source": [
        "tdef = TriggerDef()\ntdef.add('rest', 1)\n\nplayer = StreamPlayer(stream_name, fif_file, trigger_def=tdef)\nplayer.start()\nprint (player)\n\n# wait a bit to get some events logged\ntime.sleep(4)\n\n# stop\nplayer.stop()\nprint (player)"
      ]
    },
    {
      "cell_type": "markdown",
      "metadata": {},
      "source": [
        "<div class=\"alert alert-info\"><h4>Note</h4><p>A path to a valid ``.ini`` trigger definition file can be passed instead\n    of a :class:`TriggerDef` instance. The file is read with\n    `configparser` and has to be structured as follows:\n\n    .. code-block:: python\n\n        [events]\n        event_str_1 = event_id_1   # comment\n        event_str_2 = event_id_2   # comment\n\n    Example:\n\n    .. code-block:: python\n\n        [events]\n        rest = 1\n        stim = 2</p></div>\n\n"
      ]
    },
    {
      "cell_type": "markdown",
      "metadata": {},
      "source": [
        "### chunk_size\n\n``chunk_size`` defines how many samples are pushed at once on the LSL oulet\neach time the `~bsl.StreamPlayer` sends data. The default ``16`` should work\nmost of the time. A warning is emitted if the value is different from the\nusual ``16`` or ``32``.\n\n"
      ]
    },
    {
      "cell_type": "markdown",
      "metadata": {},
      "source": [
        "### high_resolution\n\nBetween 2 push of samples on the LSL outlet, the `~bsl.StreamPlayer` waits.\nThis sleep duration can be achieved either with `~time.sleep` or with\n`~time.perf_counter`. The second is more precise, but also uses more CPU.\n\n"
      ]
    }
  ],
  "metadata": {
    "kernelspec": {
      "display_name": "Python 3",
      "language": "python",
      "name": "python3"
    },
    "language_info": {
      "codemirror_mode": {
        "name": "ipython",
        "version": 3
      },
      "file_extension": ".py",
      "mimetype": "text/x-python",
      "name": "python",
      "nbconvert_exporter": "python",
      "pygments_lexer": "ipython3",
      "version": "3.9.9"
    }
  },
  "nbformat": 4,
  "nbformat_minor": 0
}