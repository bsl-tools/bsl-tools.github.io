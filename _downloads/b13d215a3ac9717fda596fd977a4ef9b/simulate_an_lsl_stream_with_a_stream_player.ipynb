{
  "cells": [
    {
      "cell_type": "code",
      "execution_count": null,
      "metadata": {
        "collapsed": false
      },
      "outputs": [],
      "source": [
        "%matplotlib inline"
      ]
    },
    {
      "cell_type": "markdown",
      "metadata": {},
      "source": [
        "\n# Simulate an LSL stream with a Stream Player\nThe stream player creates a fake LSL stream to test code, paradigm which needs\nto connect to a stream.\n"
      ]
    },
    {
      "cell_type": "code",
      "execution_count": null,
      "metadata": {
        "collapsed": false
      },
      "outputs": [],
      "source": [
        "# Authors: Mathieu Scheltienne <mathieu.scheltienne@gmail.com>\n#\n# License: LGPL-2.1"
      ]
    },
    {
      "cell_type": "code",
      "execution_count": null,
      "metadata": {
        "collapsed": false
      },
      "outputs": [],
      "source": [
        "import time\n\nfrom bsl import StreamPlayer, datasets"
      ]
    },
    {
      "cell_type": "markdown",
      "metadata": {},
      "source": [
        "Define a name for the LSL stream.\nDefine the path to a .fif file recorded with the Stream Recorder.\nAs currently, the only data stream supported is EEG, all channels except the\ntrigger channel are multiplied by 1e6 to convert from Volts to uVolts.\n\n"
      ]
    },
    {
      "cell_type": "code",
      "execution_count": null,
      "metadata": {
        "collapsed": false
      },
      "outputs": [],
      "source": [
        "stream_name = 'MyStreamPlayer'\nsample_data_raw_file = datasets.sample.data_path()\nprint (sample_data_raw_file)"
      ]
    },
    {
      "cell_type": "markdown",
      "metadata": {},
      "source": [
        "Define a stream player and start streaming during a fix duration.\nCall in `__main__` because the Stream Player starts a new process, which can\nnot be done outside `__main__` on Windows.\nSee: https://docs.python.org/2/library/multiprocessing.html#windows\n\n"
      ]
    },
    {
      "cell_type": "code",
      "execution_count": null,
      "metadata": {
        "collapsed": false
      },
      "outputs": [],
      "source": [
        "if __name__ == '__main__':\n    player = StreamPlayer(stream_name, sample_data_raw_file)\n    player.start()\n    time.sleep(3)  # fix 3 seconds duration.\n    player.stop()"
      ]
    },
    {
      "cell_type": "markdown",
      "metadata": {},
      "source": [
        "A stream player can be called directly from the command line with:\n`bsl_stream_player MyStreamPlayer \"path to -raw.fif\"`.\n\n"
      ]
    }
  ],
  "metadata": {
    "kernelspec": {
      "display_name": "Python 3",
      "language": "python",
      "name": "python3"
    },
    "language_info": {
      "codemirror_mode": {
        "name": "ipython",
        "version": 3
      },
      "file_extension": ".py",
      "mimetype": "text/x-python",
      "name": "python",
      "nbconvert_exporter": "python",
      "pygments_lexer": "ipython3",
      "version": "3.8.10"
    }
  },
  "nbformat": 4,
  "nbformat_minor": 0
}