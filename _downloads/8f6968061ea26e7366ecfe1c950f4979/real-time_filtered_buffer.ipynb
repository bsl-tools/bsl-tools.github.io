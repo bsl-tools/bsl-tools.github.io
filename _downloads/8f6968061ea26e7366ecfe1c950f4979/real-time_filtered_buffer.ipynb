{
  "cells": [
    {
      "cell_type": "code",
      "execution_count": null,
      "metadata": {
        "collapsed": false
      },
      "outputs": [],
      "source": [
        "%matplotlib inline"
      ]
    },
    {
      "cell_type": "markdown",
      "metadata": {},
      "source": [
        "\n# StreamReceiver: real-time buffer filtered with a causal filter\n\nA `~bsl.StreamReceiver` can be used to create a data buffer on which different\noperations have already been applied. For instance, a buffer where data is\nfiltered with a bandpass filter.\n"
      ]
    },
    {
      "cell_type": "code",
      "execution_count": null,
      "metadata": {
        "collapsed": false
      },
      "outputs": [],
      "source": [
        "# Authors: Mathieu Scheltienne <mathieu.scheltienne@fcbg.ch>\n#\n# License: LGPL-2.1"
      ]
    },
    {
      "cell_type": "markdown",
      "metadata": {},
      "source": [
        "<div class=\"alert alert-danger\"><h4>Warning</h4><p>Both `~bsl.StreamPlayer` and `~bsl.StreamRecorder` create a new process\n    to stream or record data. On Windows, mutliprocessing suffers a couple of\n    restrictions. The entry-point of a multiprocessing program should be\n    protected with ``if __name__ == '__main__':`` to ensure it can safely\n    import and run the module. More information on the\n    `documentation for multiprocessing on Windows\n    <https://docs.python.org/2/library/multiprocessing.html#windows>`_.</p></div>\n\nThis example will use a sample EEG resting-state dataset that can be retrieve\nwith `bsl.datasets<datasets>`. The dataset is stored in the user home\ndirectory in the folder ``bsl_data`` (e.g. ``C:\\Users\\User\\bsl_data``).\n\n"
      ]
    },
    {
      "cell_type": "code",
      "execution_count": null,
      "metadata": {
        "collapsed": false
      },
      "outputs": [],
      "source": [
        "from math import ceil\nimport time\n\nfrom matplotlib import pyplot as plt\nimport mne\nimport numpy as np\nfrom scipy.signal import butter, sosfilt, sosfilt_zi\n\nfrom bsl import StreamReceiver, StreamPlayer, datasets\nfrom bsl.utils import Timer"
      ]
    },
    {
      "cell_type": "markdown",
      "metadata": {},
      "source": [
        "To simulate an actual signal coming from an LSL stream, a `~bsl.StreamPlayer`\nis used with a 40 seconds resting-state recording. This dataset is already\nfiltered between (1, 40) Hz.\n\n"
      ]
    },
    {
      "cell_type": "code",
      "execution_count": null,
      "metadata": {
        "collapsed": false
      },
      "outputs": [],
      "source": [
        "stream_name = 'StreamPlayer'\nfif_file = datasets.eeg_resting_state.data_path()\nplayer = StreamPlayer(stream_name, fif_file)\nplayer.start()\nprint (player)"
      ]
    },
    {
      "cell_type": "code",
      "execution_count": null,
      "metadata": {
        "collapsed": false
      },
      "outputs": [],
      "source": [
        "raw = mne.io.read_raw_fif(fif_file, preload=False, verbose=False)\nprint (f\"BP filter between: {raw.info['highpass']}, {raw.info['lowpass']} Hz\")"
      ]
    },
    {
      "cell_type": "markdown",
      "metadata": {},
      "source": [
        "## Filter\n\nData should be filtered along one dimension. For this example, a butter IIR\nfilter is used. More information on filtering is available on the MNE\ndocumentation:\n\n- `Background information on filtering <https://mne.tools/stable/auto_tutorials/preprocessing/25_background_filtering.html#disc-filtering>`_\n- `Filtering and resampling data <https://mne.tools/stable/auto_tutorials/preprocessing/30_filtering_resampling.html#tut-filter-resample>`_\n\n"
      ]
    },
    {
      "cell_type": "code",
      "execution_count": null,
      "metadata": {
        "collapsed": false
      },
      "outputs": [],
      "source": [
        "def create_bandpass_filter(low, high, fs, n):\n    \"\"\"\n    Create a bandpass filter using a butter filter of order n.\n\n    Parameters\n    ----------\n    low : float\n        The lower pass-band edge.\n    high : float\n        The upper pass-band ege.\n    fs : float\n        Sampling rate of the data.\n    n : int\n        Order of the filter.\n\n    Returns\n    -------\n    sos : array\n        Second-order sections representation of the IIR filter.\n    zi_coeff : array\n        Initial condition for sosfilt for step response steady-state.\n    \"\"\"\n    # Divide by the Nyquist frequency\n    bp_low = low / (0.5 * fs)\n    bp_high = high / (0.5 * fs)\n    # Compute SOS output (second order sections)\n    sos = butter(n, [bp_low, bp_high], btype='band', output='sos')\n    # Construct initial conditions for sosfilt for step response steady-state.\n    zi_coeff = sosfilt_zi(sos).reshape((sos.shape[0], 2, 1))\n\n    return sos, zi_coeff"
      ]
    },
    {
      "cell_type": "markdown",
      "metadata": {},
      "source": [
        "EEG data is usually subject to a lage DC offset, which corresponds to a step\nresponse steady-state. The initial conditions are determined by multiplying\nthe ``zi_coeff`` with the DC offset. The DC offset value can be approximated\nby taking the mean of a small window.\n\n"
      ]
    },
    {
      "cell_type": "markdown",
      "metadata": {},
      "source": [
        "## Buffer\n\nWhen creating the filtered buffer, the duration has to be define to create a\nnumpy array of the correct shape and pre-allocate the required space.\n\n"
      ]
    },
    {
      "cell_type": "code",
      "execution_count": null,
      "metadata": {
        "collapsed": false
      },
      "outputs": [],
      "source": [
        "buffer_duration = 5  # in seconds"
      ]
    },
    {
      "cell_type": "markdown",
      "metadata": {},
      "source": [
        "Then, a `~bsl.StreamReceiver` is created. But the actual buffer and window\nsize of the `~bsl.StreamReceiver` are set as small as possible. The buffer\nfrom the `~bsl.StreamReceiver` is only used to store the last samples until\nthey are retrieved, filtered, and added to the filtered buffer. In this\nexample, the `~bsl.StreamReceiver` buffer and window size are set to 200 ms.\n\n"
      ]
    },
    {
      "cell_type": "code",
      "execution_count": null,
      "metadata": {
        "collapsed": false
      },
      "outputs": [],
      "source": [
        "sr = StreamReceiver(bufsize=0.2, winsize=0.2, stream_name=stream_name)\ntime.sleep(0.2)  # wait to fill LSL inlet."
      ]
    },
    {
      "cell_type": "markdown",
      "metadata": {},
      "source": [
        "<div class=\"alert alert-info\"><h4>Note</h4><p>A `~bsl.StreamReceiver` opens an LSL inlet for each connected stream at\n    initialization. The inlet's buffer is empty when created and fills up as\n    time passes. Data is pulled from the LSL inlet each time\n    `~bsl.StreamReceiver.acquire` is called.</p></div>\n\nThe filtered buffer can be define as a class that uses the elements created\npreviously. The method ``.update()`` pulls new samples from the LSL stream,\nfilters and add them to the buffer while removing older samples that are now\nexiting the buffer.\n\nThe `~bsl.StreamReceiver` appends a ``TRIGGER`` channel at the beginning of\nthe data array. For filtering, the trigger channel is not needed. Thus, the\nnumber of channels is reduced by 1 and the first channel on the\n``(samples, channels)`` data array is ignored.\n\nFor this example, the filter is defined between 5 and 10 Hz to emphasize its\neffect as the dataset streamed is already filtered between (1, 40) Hz.\n\n"
      ]
    },
    {
      "cell_type": "code",
      "execution_count": null,
      "metadata": {
        "collapsed": false
      },
      "outputs": [],
      "source": [
        "class Buffer:\n    \"\"\"\n    A buffer containing filter data and its associated timestamps.\n\n    Parameters\n    ----------\n    buffer_duration : float\n        Length of the buffer in seconds.\n    sr : bsl.StreamReceiver\n        StreamReceiver connected to the desired data stream.\n    \"\"\"\n\n    def __init__(self, buffer_duration, sr):\n        # Store the StreamReceiver in a class attribute\n        self.sr = sr\n\n        # Retrieve sampling rate and number of channels\n        self.fs = int(self.sr.streams[stream_name].sample_rate)\n        self.nb_channels = len(self.sr.streams[stream_name].ch_list) - 1\n\n        # Define duration\n        self.buffer_duration = buffer_duration\n        self.buffer_duration_samples = ceil(self.buffer_duration * self.fs)\n\n        # Create data array\n        self.timestamps = np.zeros(self.buffer_duration_samples)\n        self.data = np.zeros((self.buffer_duration_samples, self.nb_channels))\n        # For demo purposes, let's store also the raw data\n        self.raw_data = np.zeros((self.buffer_duration_samples,\n                                  self.nb_channels))\n\n        # Create filter BP (1, 15) Hz and filter variables\n        self.sos, self.zi_coeff = create_bandpass_filter(5., 10., self.fs, n=2)\n        self.zi = None\n\n    def update(self):\n        \"\"\"\n        Update the buffer with new samples from the StreamReceiver. This method\n        should be called regularly, with a period at least smaller than the\n        StreamReceiver buffer length.\n        \"\"\"\n        # Acquire new data points\n        self.sr.acquire()\n        data_acquired, ts_list = self.sr.get_buffer()\n        self.sr.reset_buffer()\n\n        if len(ts_list) == 0:\n            return  # break early, no new samples\n\n        # Remove trigger channel\n        data_acquired = data_acquired[:, 1:]\n\n        # Filter acquired data\n        if self.zi is None:\n            # Initialize the initial conditions for the cascaded filter delays.\n            self.zi = self.zi_coeff * np.mean(data_acquired, axis=0)\n        data_filtered, self.zi = sosfilt(self.sos, data_acquired, axis=0,\n                                         zi=self.zi)\n\n        # Roll buffer, remove samples exiting and add new samples\n        self.timestamps = np.roll(self.timestamps, -len(ts_list))\n        self.timestamps[-len(ts_list):] = ts_list\n        self.data = np.roll(self.data, -len(ts_list), axis=0)\n        self.data[-len(ts_list):, :] = data_filtered\n        self.raw_data = np.roll(self.raw_data, -len(ts_list), axis=0)\n        self.raw_data[-len(ts_list):, :] = data_acquired"
      ]
    },
    {
      "cell_type": "markdown",
      "metadata": {},
      "source": [
        "## Testing the filtered buffer\n\nThe filtered buffer must be updated regularly. In this example, the\n`~bsl.StreamReceiver` buffer has been initialized at 200 ms. Thus, the\nfiltered buffer should be updated at most every 200 ms, else, there is a risk\nthat a couple of samples will be missed between 2 updates.\n\nA 15 seconds acquisition is used to test the buffer. Every 5 seconds, the\nbuffer is retrieved and plotted.\n\n"
      ]
    },
    {
      "cell_type": "code",
      "execution_count": null,
      "metadata": {
        "collapsed": false
      },
      "outputs": [],
      "source": [
        "# Create plot\nf, ax = plt.subplots(2, 1, sharex=True)\nax[0].set_title('Raw data')\nax[1].set_title('Filtered data between (5, 10) Hz')\n# Create buffer\nbuffer = Buffer(buffer_duration, sr)\n\n# Start by filling once the entire buffer (to get rid of the initialization 0)\ntimer = Timer()\nwhile timer.sec() <= buffer_duration:\n    buffer.update()\n\n# Acquire during 15 seconds and plot every 5 seconds\nidx_last_plot = 1\ntimer.reset()\nwhile timer.sec() <= 15:\n    buffer.update()\n    # check if we just passed the 5s between plot limit\n    if timer.sec() // 5 == idx_last_plot:\n        # average all channels to simulate an evoked response\n        ax[0].plot(buffer.timestamps, np.mean(buffer.raw_data[:, 1:], axis=1))\n        ax[1].plot(buffer.timestamps, np.mean(buffer.data[:, 1:], axis=1))\n        idx_last_plot += 1"
      ]
    },
    {
      "cell_type": "markdown",
      "metadata": {},
      "source": [
        "Stop the mock LSL stream.\n\n"
      ]
    },
    {
      "cell_type": "code",
      "execution_count": null,
      "metadata": {
        "collapsed": false
      },
      "outputs": [],
      "source": [
        "del sr  # disconnects and close the LSL inlet.\nplayer.stop()"
      ]
    }
  ],
  "metadata": {
    "kernelspec": {
      "display_name": "Python 3",
      "language": "python",
      "name": "python3"
    },
    "language_info": {
      "codemirror_mode": {
        "name": "ipython",
        "version": 3
      },
      "file_extension": ".py",
      "mimetype": "text/x-python",
      "name": "python",
      "nbconvert_exporter": "python",
      "pygments_lexer": "ipython3",
      "version": "3.9.9"
    }
  },
  "nbformat": 4,
  "nbformat_minor": 0
}